{
 "cells": [
  {
   "cell_type": "code",
   "execution_count": 4,
   "metadata": {},
   "outputs": [],
   "source": [
    "from assigment1 import generate_traces, find_starting_node\n",
    "from anytree import Node, RenderTree\n",
    "from anytree.importer import DictImporter\n",
    "from anytree.exporter import DotExporter\n",
    "from anytree import Node, RenderTree, AsciiStyle, PreOrderIter\n",
    "from anytree.search import find\n",
    "from itertools import product\n",
    "import json\n"
   ]
  },
  {
   "cell_type": "code",
   "execution_count": 11,
   "metadata": {},
   "outputs": [],
   "source": [
    "with open(f'coffee.json', 'r') as file:\n",
    "    json_tree = json.load(file)\n",
    "\n",
    "importer = DictImporter()\n",
    "root = importer.import_(json_tree)\n",
    "\n",
    "\n",
    "starting_node = find_starting_node(root, \"getCoffee\")\n",
    "traces = generate_traces(starting_node)"
   ]
  },
  {
   "cell_type": "code",
   "execution_count": 28,
   "metadata": {},
   "outputs": [],
   "source": [
    "def generate_traces(node):\n",
    "    \"\"\"Recursively generates all possible traces from the given node.\"\"\"\n",
    "    if not hasattr(node, 'children') or not node.children:\n",
    "        return [[node.name]]  # Leaf node (ACT), end of a trace\n",
    "    \n",
    "    traces = []\n",
    "    \n",
    "    if node.type == \"OR\":\n",
    "        # OR node: Select one child at a time\n",
    "        for child in node.children:\n",
    "            child_traces = generate_traces(child)\n",
    "            for trace in child_traces:\n",
    "                traces.append([node.name] + trace)\n",
    "                # print(f\"node name -> {node.name} ||||| traces ____ {trace}\")\n",
    "    \n",
    "    elif node.type == \"SEQ\" or node.type == \"AND\":\n",
    "        # SEQ/AND node: Concatenate traces of all children in order\n",
    "        child_traces = [generate_traces(child) for child in node.children]\n",
    "        for combination in product(*child_traces):\n",
    "            traces.append([node.name] + [step for trace in combination for step in trace])\n",
    "    \n",
    "    return traces"
   ]
  },
  {
   "cell_type": "code",
   "execution_count": 30,
   "metadata": {},
   "outputs": [
    {
     "data": {
      "text/plain": [
       "[['getCoffee',\n",
       "  'getKitchenCoffee',\n",
       "  'getStaffCard',\n",
       "  'getOwnCard',\n",
       "  'gotoKitchen',\n",
       "  'getCoffeeKitchen'],\n",
       " ['getCoffee',\n",
       "  'getKitchenCoffee',\n",
       "  'getStaffCard',\n",
       "  'getOthersCard',\n",
       "  'gotoKitchen',\n",
       "  'getCoffeeKitchen'],\n",
       " ['getCoffee',\n",
       "  'getAnnOfficeCoffee',\n",
       "  'gotoAnnOffice',\n",
       "  'getPod',\n",
       "  'getCoffeeAnnOffice'],\n",
       " ['getCoffee', 'getShopCoffee', 'gotoShop', 'payShop', 'getCoffeeShop']]"
      ]
     },
     "execution_count": 30,
     "metadata": {},
     "output_type": "execute_result"
    }
   ],
   "source": [
    "generate_traces(root)"
   ]
  },
  {
   "cell_type": "code",
   "execution_count": 35,
   "metadata": {},
   "outputs": [
    {
     "name": "stdout",
     "output_type": "stream",
     "text": [
      "Traces generated:\n",
      "['getCoffee', 'getKitchenCoffee', 'getStaffCard', 'getOwnCard', 'gotoKitchen', 'getCoffeeKitchen']\n",
      "['getCoffee', 'getKitchenCoffee', 'getStaffCard', 'getOthersCard', 'gotoKitchen', 'getCoffeeKitchen']\n",
      "['getCoffee', 'getAnnOfficeCoffee', 'gotoAnnOffice', 'getPod', 'getCoffeeAnnOffice']\n",
      "['getCoffee', 'getShopCoffee', 'gotoShop', 'payShop', 'getCoffeeShop']\n",
      "________________________\n",
      "getCoffee -> getKitchenCoffee -> getStaffCard -> getOwnCard -> gotoKitchen -> getCoffeeKitchen\n",
      "getCoffee -> getKitchenCoffee -> getStaffCard -> getOthersCard -> gotoKitchen -> getCoffeeKitchen\n",
      "getCoffee -> getAnnOfficeCoffee -> gotoAnnOffice -> getPod -> getCoffeeAnnOffice\n",
      "getCoffee -> getShopCoffee -> gotoShop -> payShop -> getCoffeeShop\n"
     ]
    }
   ],
   "source": [
    "print(\"Traces generated:\")\n",
    "for trace in traces:\n",
    "    print(trace)\n",
    "\n",
    "print('________________________')\n",
    "\n",
    "for trace in traces:\n",
    "    print(\" -> \".join(trace))"
   ]
  }
 ],
 "metadata": {
  "kernelspec": {
   "display_name": "xai",
   "language": "python",
   "name": "python3"
  },
  "language_info": {
   "codemirror_mode": {
    "name": "ipython",
    "version": 3
   },
   "file_extension": ".py",
   "mimetype": "text/x-python",
   "name": "python",
   "nbconvert_exporter": "python",
   "pygments_lexer": "ipython3",
   "version": "3.10.16"
  }
 },
 "nbformat": 4,
 "nbformat_minor": 2
}
