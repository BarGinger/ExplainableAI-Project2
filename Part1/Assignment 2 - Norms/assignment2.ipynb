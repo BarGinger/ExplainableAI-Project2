{
 "cells": [
  {
   "cell_type": "code",
   "execution_count": 1,
   "metadata": {},
   "outputs": [],
   "source": [
    "from anytree import Node, RenderTree\n",
    "from anytree.importer import DictImporter\n",
    "from anytree.exporter import DotExporter\n",
    "from anytree import Node, RenderTree, AsciiStyle, PreOrderIter\n",
    "from anytree.search import find\n",
    "from itertools import product\n",
    "from anytree import NodeMixin, RenderTree, AnyNode\n",
    "from anytree import RenderTree, AnyNode\n",
    "from anytree.importer import DictImporter\n",
    "import json\n",
    "import os\n",
    "\n"
   ]
  },
  {
   "cell_type": "code",
   "execution_count": 4,
   "metadata": {},
   "outputs": [],
   "source": [
    "with open(f'coffee.json', 'r') as file:\n",
    "    json_tree = json.load(file)"
   ]
  },
  {
   "cell_type": "code",
   "execution_count": 6,
   "metadata": {},
   "outputs": [],
   "source": [
    "def find_starting_node(root, starting_node_name):\n",
    "    \"\"\"\n",
    "    Traverse the tree to find the starting node by name.\n",
    "\n",
    "    Parameters:\n",
    "    root (Node): The root node of the tree\n",
    "    starting_node_name (string): The name of the starting node to find\n",
    "\n",
    "    return:\n",
    "    Node: The starting node if found, otherwise None\n",
    "    \"\"\"\n",
    "    node = find(root, lambda node: node.name == starting_node_name)\n",
    "    \n",
    "    \n",
    "    return node\n",
    "\n",
    "\n",
    "def generate_traces(node):\n",
    "    \"\"\"Recursively generates all possible traces from the given node.\"\"\"\n",
    "    if not hasattr(node, 'children') or not node.children:\n",
    "        return [[node.name]]  # Leaf node (ACT), end of a trace\n",
    "    \n",
    "    traces = []\n",
    "    \n",
    "    if node.type == \"OR\":\n",
    "        # OR node: Select one child at a time\n",
    "        for child in node.children:\n",
    "            child_traces = generate_traces(child)\n",
    "            for trace in child_traces:\n",
    "                traces.append([node.name] + trace)\n",
    "    \n",
    "    elif node.type == \"SEQ\" or node.type == \"AND\":\n",
    "        # SEQ/AND node: Concatenate traces of all children in order\n",
    "        child_traces = [generate_traces(child) for child in node.children]\n",
    "        for combination in product(*child_traces):\n",
    "            traces.append([node.name] + [step for trace in combination for step in trace])\n",
    "    \n",
    "    return traces\n",
    "\n",
    "\n",
    "def build_tree(json_node, parent=None):\n",
    "    # Build the entire tree\n",
    "    attributes = {k: v for k, v in json_node.items() if k not in ['name', 'type', 'children']}\n",
    "    node = AnyNode(name=json_node['name'], type=json_node['type'], violation=False, parent=parent, **attributes)\n",
    "    \n",
    "    for child in json_node.get('children', []):\n",
    "        build_tree(child, node)\n",
    "    \n",
    "    return node\n",
    "\n",
    "def annotate_tree(node, norm):\n",
    "    \"\"\"\n",
    "    Annotates the tree by marking nodes that violate the given norm.\n",
    "\n",
    "    Parameters:\n",
    "    node (Node): The current node in the tree\n",
    "    norm (dict): The norm\n",
    "\n",
    "    - If the norm is of type 'P' (prohibited), a node violates it if its name is in norm['actions'].\n",
    "    - If the norm is of type 'O' (obligatory), a node violates it if it is an action but not in norm['actions'].\n",
    "    \"\"\"\n",
    "    for child in node.children:\n",
    "        annotate_tree(child, norm)\n",
    "\n",
    "    if 'type' in norm:\n",
    "        if norm['type'] == 'P':\n",
    "            node.violation = node.name in norm['actions']\n",
    "        elif norm['type'] == 'O':\n",
    "            node.violation = node.name not in norm['actions'] and node.type == 'ACT'\n",
    "\n",
    "    if hasattr(node, 'type') and node.type == 'OR':\n",
    "        node.violation = all(child.violation for child in node.children)\n",
    "    elif hasattr(node, 'type') and node.type in ['SEQ', 'AND']:\n",
    "        node.violation = any(child.violation for child in node.children)\n",
    "\n",
    "def export_tree_to_png(root, output_file):\n",
    "    \"\"\"\n",
    "    Exports the tree to a PNG file with node properties.\n",
    "    \"\"\"\n",
    "    DotExporter(root, \n",
    "                nodeattrfunc=lambda node: f'label=\"{node.name}\\nViolation: {node.violation}\"'\n",
    "               ).to_picture(output_file)"
   ]
  },
  {
   "cell_type": "code",
   "execution_count": 8,
   "metadata": {},
   "outputs": [],
   "source": [
    "norm = {'type': 'P', 'actions': ['payShop']}\n",
    "root = build_tree(json_tree)\n",
    "annotate_tree(root, norm)"
   ]
  },
  {
   "cell_type": "code",
   "execution_count": 9,
   "metadata": {},
   "outputs": [],
   "source": [
    "output = RenderTree(root)"
   ]
  }
 ],
 "metadata": {
  "kernelspec": {
   "display_name": "xai",
   "language": "python",
   "name": "python3"
  },
  "language_info": {
   "codemirror_mode": {
    "name": "ipython",
    "version": 3
   },
   "file_extension": ".py",
   "mimetype": "text/x-python",
   "name": "python",
   "nbconvert_exporter": "python",
   "pygments_lexer": "ipython3",
   "version": "3.10.16"
  }
 },
 "nbformat": 4,
 "nbformat_minor": 2
}
