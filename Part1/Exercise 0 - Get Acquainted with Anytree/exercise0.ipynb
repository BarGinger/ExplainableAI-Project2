{
 "cells": [
  {
   "cell_type": "code",
   "execution_count": 3,
   "metadata": {},
   "outputs": [],
   "source": [
    "from anytree.importer import DictImporter\n",
    "from anytree import RenderTree\n",
    "from anytree.exporter import DotExporter\n",
    "import json\n",
    "import os"
   ]
  },
  {
   "cell_type": "code",
   "execution_count": 12,
   "metadata": {},
   "outputs": [],
   "source": [
    "\n",
    "with open(f'coffee.json', 'r') as file:\n",
    "    json_tree = json.load(file)\n",
    "importer = DictImporter()\n",
    "root = importer.import_(json_tree)"
   ]
  },
  {
   "cell_type": "code",
   "execution_count": 9,
   "metadata": {},
   "outputs": [],
   "source": [
    "output = RenderTree(root)"
   ]
  },
  {
   "cell_type": "code",
   "execution_count": 15,
   "metadata": {},
   "outputs": [
    {
     "name": "stdout",
     "output_type": "stream",
     "text": [
      "AnyNode(name='getCoffee', type='OR')\n",
      "├── AnyNode(name='getKitchenCoffee', pre=['staffCardAvailable'], type='SEQ')\n",
      "│   ├── AnyNode(name='getStaffCard', sequence=1, type='OR')\n",
      "│   │   ├── AnyNode(costs=[0.0, 0.0, 0.0], name='getOwnCard', post=['haveCard'], pre=['ownCard'], type='ACT')\n",
      "│   │   └── AnyNode(costs=[0.0, 0.0, 2.0], name='getOthersCard', post=['haveCard'], pre=['colleagueAvailable'], type='ACT')\n",
      "│   ├── AnyNode(costs=[0.0, 0.0, 2.0], name='gotoKitchen', post=['atKitchen'], sequence=2, type='ACT')\n",
      "│   └── AnyNode(costs=[5.0, 0.0, 1.0], name='getCoffeeKitchen', post=['haveCoffee'], pre=['haveCard', 'atKitchen'], sequence=3, type='ACT')\n",
      "├── AnyNode(name='getAnnOfficeCoffee', pre=['AnnInOffice'], type='SEQ')\n",
      "│   ├── AnyNode(costs=[0.0, 0.0, 2.0], name='gotoAnnOffice', post=['atAnnOffice'], pre=['AnnInOffice'], sequence=1, type='ACT')\n",
      "│   ├── AnyNode(costs=[0.0, 0.0, 1.0], name='getPod', post=['havePod'], sequence=2, type='ACT')\n",
      "│   └── AnyNode(costs=[2.0, 0.0, 3.0], name='getCoffeeAnnOffice', post=['haveCoffee'], pre=['havePod', 'atAnnOffice'], sequence=3, type='ACT')\n",
      "└── AnyNode(name='getShopCoffee', pre=['haveMoney'], type='SEQ')\n",
      "    ├── AnyNode(costs=[0.0, 0.0, 5.0], name='gotoShop', post=['atShop'], sequence=1, type='ACT')\n",
      "    ├── AnyNode(costs=[0.0, 3.0, 1.0], name='payShop', pre=['haveMoney'], sequence=2, type='ACT')\n",
      "    └── AnyNode(costs=[0.0, 0.0, 3.0], name='getCoffeeShop', post=['haveCoffee'], pre=['atShop'], sequence=3, type='ACT')\n"
     ]
    }
   ],
   "source": [
    "print(output)"
   ]
  },
  {
   "cell_type": "code",
   "execution_count": 14,
   "metadata": {},
   "outputs": [],
   "source": [
    "DotExporter(root).to_picture(f\"tree.png\")"
   ]
  }
 ],
 "metadata": {
  "kernelspec": {
   "display_name": "xai",
   "language": "python",
   "name": "python3"
  },
  "language_info": {
   "codemirror_mode": {
    "name": "ipython",
    "version": 3
   },
   "file_extension": ".py",
   "mimetype": "text/x-python",
   "name": "python",
   "nbconvert_exporter": "python",
   "pygments_lexer": "ipython3",
   "version": "3.10.16"
  }
 },
 "nbformat": 4,
 "nbformat_minor": 2
}
