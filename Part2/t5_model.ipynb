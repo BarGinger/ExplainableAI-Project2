{
 "cells": [
  {
   "cell_type": "markdown",
   "metadata": {},
   "source": [
    "# Load Pretrained Model and Tokenizer\n",
    "Load the pretrained T5 model and tokenizer using the `get_pretrained_model` function."
   ]
  },
  {
   "cell_type": "code",
   "execution_count": 1,
   "metadata": {},
   "outputs": [
    {
     "name": "stderr",
     "output_type": "stream",
     "text": [
      "You are using the default legacy behaviour of the <class 'transformers.models.t5.tokenization_t5.T5Tokenizer'>. This is expected, and simply means that the `legacy` (previous) behavior will be used so nothing changes for you. If you want to use the new behaviour, set `legacy=False`. This should only be set if you understand what it means, and thoroughly read the reason why this was added as explained in https://github.com/huggingface/transformers/pull/24565\n"
     ]
    }
   ],
   "source": [
    "# Importing Libraries\n",
    "from transformers import T5Tokenizer, T5ForConditionalGeneration\n",
    "import torch\n",
    "import warnings\n",
    "warnings.filterwarnings('ignore', category=FutureWarning, module='tensorflow')\n",
    "\n",
    "device = \"cuda\" if torch.cuda.is_available() else \"cpu\"\n",
    "\n",
    "def get_pretrained_model(model_name=\"google/flan-t5-base\"):\n",
    "    \"\"\"\n",
    "    Load the pretrained T5 model and tokenizer.\n",
    "\n",
    "    Parameters:\n",
    "    - model_name: str, default \"google/flan-t5-base\", the name of the pretrained model to load\n",
    "\n",
    "    Returns:\n",
    "    - tokenizer: Pretrained tokenizer\n",
    "    - model: Pretrained T5 model\n",
    "    \"\"\"\n",
    "    tokenizer = T5Tokenizer.from_pretrained(model_name)\n",
    "    model = T5ForConditionalGeneration.from_pretrained(model_name).to(device)\n",
    "    return tokenizer, model\n",
    "\n",
    "# Load the pretrained model and tokenizer\n",
    "model_name = \"google/flan-t5-base\"\n",
    "tokenizer, model = get_pretrained_model()"
   ]
  },
  {
   "cell_type": "markdown",
   "metadata": {},
   "source": [
    "# Preprocess Data\n",
    "Define a function `preprocess_function` to tokenize the input and output examples, and prepare labels."
   ]
  },
  {
   "cell_type": "code",
   "execution_count": 2,
   "metadata": {},
   "outputs": [],
   "source": [
    "# Preprocess Data\n",
    "\n",
    "def preprocess_function(examples, tokenizer):\n",
    "    \"\"\"\n",
    "    Tokenize the dataset for input and output.\n",
    "\n",
    "    Parameters:\n",
    "    - examples: Dictionary with \"input\" and \"output\" keys\n",
    "    - tokenizer: Pretrained tokenizer\n",
    "\n",
    "    Returns:\n",
    "    - Dictionary with tokenized inputs and labels\n",
    "    \"\"\"\n",
    "    prefix = \"\"\n",
    "    if model_name in [\"t5-small\", \"t5-base\", \"t5-large\", \"t5-3b\", \"t5-11b\", \"google/flan-t5-base\"]:\n",
    "        prefix = \"Translate formal explanation to natural language:\"\n",
    "\n",
    "\n",
    "    inputs = tokenizer(\n",
    "        [prefix + text for text in examples[\"input\"]],\n",
    "        padding=\"max_length\", truncation=True, max_length=256\n",
    "    )\n",
    "    outputs = tokenizer(\n",
    "        examples[\"output\"],\n",
    "        padding=\"max_length\", truncation=True, max_length=256\n",
    "    )\n",
    "    inputs[\"labels\"] = outputs[\"input_ids\"]\n",
    "    inputs[\"decoder_input_ids\"] = outputs[\"input_ids\"]\n",
    "    \n",
    "    return inputs"
   ]
  },
  {
   "cell_type": "markdown",
   "metadata": {},
   "source": [
    "# Prepare Dataset\n",
    "Convert the raw data into a tokenized dataset using the `prepare_dataset` function."
   ]
  },
  {
   "cell_type": "code",
   "execution_count": 3,
   "metadata": {},
   "outputs": [
    {
     "data": {
      "application/vnd.jupyter.widget-view+json": {
       "model_id": "376f6c0cece0447b9c7305945abf3c62",
       "version_major": 2,
       "version_minor": 0
      },
      "text/plain": [
       "Map:   0%|          | 0/167 [00:00<?, ? examples/s]"
      ]
     },
     "metadata": {},
     "output_type": "display_data"
    }
   ],
   "source": [
    "from datasets import Dataset\n",
    "\n",
    "def prepare_dataset(raw_data, tokenizer):\n",
    "    \"\"\"\n",
    "    Convert raw data into a tokenized dataset.\n",
    "\n",
    "    Parameters:\n",
    "    - raw_data: List of dictionaries with \"input\" and \"output\" keys\n",
    "    - tokenizer: Pretrained tokenizer\n",
    "\n",
    "    Returns:\n",
    "    - tokenized_datasets: Tokenized dataset\n",
    "    \"\"\"\n",
    "    dataset = Dataset.from_list(raw_data)\n",
    "    tokenized_datasets = dataset.map(lambda x: preprocess_function(x, tokenizer), batched=True)\n",
    "    return tokenized_datasets\n",
    "\n",
    "# Sample dataset\n",
    "raw_data = [\n",
    "    # --- Simple Condition Rules ---\n",
    "    {\"input\": \"C: getKitchenCoffee requires [staffCardAvailable]\", \"output\": \"You can get coffee from the kitchen if a staff card is available.\"},\n",
    "    {\"input\": \"C: enterOffice requires [securityBadge]\", \"output\": \"You need a security badge to enter the office.\"},\n",
    "    {\"input\": \"C: accessServerRoom requires [adminClearance, keyCard]\", \"output\": \"To access the server room, you must have admin clearance and a key card.\"},\n",
    "    {\"input\": \"C: driveCompanyCar requires [validLicense, authorization]\", \"output\": \"Driving the company car requires both a valid license and authorization.\"},\n",
    "    {\"input\": \"C: openSafe requires [correctPinCode]\", \"output\": \"The safe can only be opened with the correct PIN code.\"},\n",
    "    {\"input\": \"C: borrowLaptop requires [managerApproval]\", \"output\": \"You need manager approval to borrow a laptop.\"},\n",
    "    {\"input\": \"C: accessConfidentialFile requires [encryptionKey, clearanceLevel3]\", \"output\": \"To access the confidential file, you must have an encryption key and level 3 clearance.\"},\n",
    "\n",
    "    # --- Complex Condition Rules ---\n",
    "    {\"input\": \"C: attendMeeting requires [calendarInvite]\", \"output\": \"To attend the meeting, you must have a calendar invite.\"},\n",
    "    {\"input\": \"C: accessProjectFolder requires [vpnAccess, teamMembership]\", \"output\": \"To access the project folder, you need VPN access and team membership.\"},\n",
    "    {\"input\": \"C: printDocuments requires [printerConnected, paperAvailable]\", \"output\": \"You can print documents only if the printer is connected and has paper available.\"},\n",
    "    {\"input\": \"C: unlockDevice requires [correctPassword, biometricScan]\", \"output\": \"You can unlock the device only with the correct password and a biometric scan.\"},\n",
    "    {\"input\": \"C: approveExpense requires [budgetApproval, financeSignature]\", \"output\": \"An expense can be approved only with budget approval and a finance department signature.\"},\n",
    "    {\"input\": \"C: deploySoftware requires [codeReview, securityCheck]\", \"output\": \"Software can be deployed only after a code review and a security check.\"},\n",
    "    {\"input\": \"C: bookFlight requires [travelApproval, availableBudget]\", \"output\": \"Booking a flight requires travel approval and an available budget.\"},\n",
    "    {\"input\": \"C: purchaseItem requires [sufficientBalance]\", \"output\": \"You can purchase the item only if you have sufficient balance.\"},\n",
    "    {\"input\": \"C: leaveBuilding requires [exitPass]\", \"output\": \"To leave the building, you need an exit pass.\"},\n",
    "    {\"input\": \"C: sendEmail requires [internetConnection]\", \"output\": \"You need an internet connection to send an email.\"},\n",
    "    {\"input\": \"C: startProject requires [projectApproval, assignedTeam]\", \"output\": \"A project can only start with approval and an assigned team.\"},\n",
    "\n",
    "    # --- Simple Preference Rules ---\n",
    "    {\"input\": \"V: getOwnCard (0,0,0) > getOthersCard (0,0,2)\", \"output\": \"It is preferable to get your own card rather than using someone else's.\"},\n",
    "    {\"input\": \"V: useCompanyLaptop (1,1,1) > usePersonalLaptop (0,0,1)\", \"output\": \"Using a company laptop is preferred over using a personal laptop.\"},\n",
    "    {\"input\": \"V: takeElevator (3,0,1) > takeStairs (2,1,2)\", \"output\": \"Taking the elevator is preferred over taking the stairs in this situation.\"},\n",
    "    {\"input\": \"V: buyNewPrinter (5,2,1) > repairOldPrinter (3,3,3)\", \"output\": \"Buying a new printer is preferable to repairing the old one.\"},\n",
    "    {\"input\": \"V: rentCar (4,0,2) > usePublicTransport (3,1,4)\", \"output\": \"Renting a car is a better choice than using public transportation.\"},\n",
    "    {\"input\": \"V: installSoftwareUpdate (2,0,1) > postponeUpdate (1,1,3)\", \"output\": \"Installing the software update now is better than postponing it.\"},\n",
    "\n",
    "    # --- Complex Preference Rules ---\n",
    "    {\"input\": \"V: attendMeetingRemotely (1,1,0) > attendInPerson (0,0,2)\", \"output\": \"It is preferable to attend the meeting remotely rather than in person.\"},\n",
    "    {\"input\": \"V: useCloudStorage (2,0,0) > useLocalStorage (1,1,3)\", \"output\": \"Using cloud storage is preferable to using local storage.\"},\n",
    "    {\"input\": \"V: printInBlackWhite (0,0,0) > printInColor (2,0,3)\", \"output\": \"Printing in black and white is preferred over printing in color.\"},\n",
    "    {\"input\": \"V: enableTwoFactorAuth (3,0,1) > relyOnPasswordOnly (1,1,3)\", \"output\": \"Enabling two-factor authentication is better than relying only on a password.\"},\n",
    "    {\"input\": \"V: hireExperiencedCandidate (5,1,0) > hireNewGraduate (3,2,4)\", \"output\": \"Hiring an experienced candidate is preferable to hiring a new graduate.\"},\n",
    "    {\"input\": \"V: deployStableVersion (2,0,0) > deployBetaVersion (1,1,3)\", \"output\": \"Deploying the stable version is preferable to deploying the beta version.\"},\n",
    "\n",
    "    # --- Real-world Inspired Condition Rules ---\n",
    "    {\"input\": \"C: applyForLoan requires [creditScoreAbove600, steadyIncome]\", \"output\": \"To apply for a loan, you must have a credit score above 600 and a steady income.\"},\n",
    "    {\"input\": \"C: registerForExam requires [courseEnrollment, feePaid]\", \"output\": \"You can register for the exam only if you are enrolled in the course and have paid the fee.\"},\n",
    "    {\"input\": \"C: enterGym requires [membershipCard]\", \"output\": \"You need a membership card to enter the gym.\"},\n",
    "    {\"input\": \"C: submitAssignment requires [beforeDeadline, correctFormat]\", \"output\": \"Assignments must be submitted before the deadline and in the correct format.\"},\n",
    "    {\"input\": \"C: boardFlight requires [passport, boardingPass]\", \"output\": \"You must have a passport and boarding pass to board the flight.\"},\n",
    "    {\"input\": \"C: withdrawCash requires [debitCard, sufficientBalance]\", \"output\": \"You can withdraw cash only if you have a debit card and sufficient balance.\"},\n",
    "\n",
    "    # --- Real-world Inspired Preference Rules ---\n",
    "    {\"input\": \"V: workFromHome (4,1,0) > workFromOffice (3,2,2)\", \"output\": \"Working from home is preferable to working from the office in this situation.\"},\n",
    "    {\"input\": \"V: useEmailForOfficialCommunication (3,0,1) > useMessagingApps (1,1,2)\", \"output\": \"Using email for official communication is better than using messaging apps.\"},\n",
    "    {\"input\": \"V: driveElectricCar (5,0,1) > drivePetrolCar (3,2,3)\", \"output\": \"Driving an electric car is preferable to driving a petrol car.\"},\n",
    "    {\"input\": \"V: buyOrganicFood (4,1,0) > buyNonOrganicFood (3,2,2)\", \"output\": \"Buying organic food is preferable to buying non-organic food.\"},\n",
    "    {\"input\": \"V: useRecyclableMaterials (3,0,0) > usePlasticMaterials (1,2,4)\", \"output\": \"Using recyclable materials is preferred over using plastic materials.\"},\n",
    "\n",
    "    # --- Additional Simple Condition Rules ---\n",
    "    {\"input\": \"C: useConferenceRoom requires [booking, departmentApproval]\", \"output\": \"To use the conference room, you need a booking and department approval.\"},\n",
    "    {\"input\": \"C: accessDatabase requires [loginCredentials, securityTraining]\", \"output\": \"You need login credentials and completed security training to access the database.\"},\n",
    "    {\"input\": \"C: submitExpenseReport requires [receipts, managerSignoff]\", \"output\": \"Submitting an expense report requires receipts and manager sign-off.\"},\n",
    "    {\"input\": \"C: requestVacation requires [availablePTO, supervisorApproval]\", \"output\": \"To request vacation, you must have available PTO and supervisor approval.\"},\n",
    "    {\"input\": \"C: useCompanyVPN requires [secureConnection, validUserAccount]\", \"output\": \"Using the company VPN requires a secure connection and a valid user account.\"},\n",
    "    {\"input\": \"C: enterRestrictedArea requires [securityClearance, escortPresent]\", \"output\": \"Entering the restricted area requires security clearance and an escort present.\"},\n",
    "    {\"input\": \"C: retrieveBackupData requires [administratorRights, recoveryKey]\", \"output\": \"To retrieve backup data, you need administrator rights and a recovery key.\"},\n",
    "    {\"input\": \"C: modifyCustomerRecords requires [supervisorPermission, auditTrail]\", \"output\": \"Modifying customer records requires supervisor permission and creates an audit trail.\"},\n",
    "    {\"input\": \"C: installNewSoftware requires [ITapproval, compatibilityCheck]\", \"output\": \"Installing new software requires IT approval and a compatibility check.\"},\n",
    "    {\"input\": \"C: accessBuildingAfterHours requires [specialAuthorization, securityNotification]\", \"output\": \"Accessing the building after hours requires special authorization and security notification.\"},\n",
    "\n",
    "    # --- Additional Complex Condition Rules ---\n",
    "    {\"input\": \"C: processClientPayment requires [verifiedAccount, paymentAuthorization]\", \"output\": \"Processing a client payment requires a verified account and payment authorization.\"},\n",
    "    {\"input\": \"C: releaseProductVersion requires [qualityAssurance, stakeholderSignoff]\", \"output\": \"Releasing a product version requires quality assurance and stakeholder sign-off.\"},\n",
    "    {\"input\": \"C: initiateEmergencyProtocol requires [securityBreach, managerAuthorization]\", \"output\": \"The emergency protocol can only be initiated during a security breach with manager authorization.\"},\n",
    "    {\"input\": \"C: scheduleClientMeeting requires [availableTimeSlot, clientConfirmation]\", \"output\": \"Scheduling a client meeting requires an available time slot and client confirmation.\"},\n",
    "    {\"input\": \"C: accessFinancialRecords requires [financeDepartmentRole, auditPurpose]\", \"output\": \"Accessing financial records requires having a finance department role and an audit purpose.\"},\n",
    "    {\"input\": \"C: performSystemMaintenance requires [scheduledDowntime, userNotification]\", \"output\": \"System maintenance can be performed only during scheduled downtime after user notification.\"},\n",
    "    {\"input\": \"C: issueRefund requires [originalReceipt, managerApproval]\", \"output\": \"A refund can be issued only with the original receipt and manager approval.\"},\n",
    "    {\"input\": \"C: updateFirmwareRemotely requires [secureChannel, deviceOnline]\", \"output\": \"Updating firmware remotely requires a secure channel and the device being online.\"},\n",
    "    {\"input\": \"C: transferSensitiveData requires [encryptedConnection, dataSanitization]\", \"output\": \"Transferring sensitive data requires an encrypted connection and data sanitization.\"},\n",
    "    {\"input\": \"C: createNewUserAccount requires [identityVerification, roleAssignment]\", \"output\": \"Creating a new user account requires identity verification and role assignment.\"},\n",
    "\n",
    "    # --- Additional Simple Preference Rules ---\n",
    "    {\"input\": \"V: submitDigitalForm (2,0,0) > submitPaperForm (1,1,3)\", \"output\": \"Submitting a digital form is preferred over submitting a paper form.\"},\n",
    "    {\"input\": \"V: useVideoConference (3,0,1) > useTeleconference (2,1,2)\", \"output\": \"Using video conferencing is preferred over using teleconferencing.\"},\n",
    "    {\"input\": \"V: adoptAutomatedSystem (4,1,0) > maintainManualProcess (2,2,3)\", \"output\": \"Adopting an automated system is preferable to maintaining a manual process.\"},\n",
    "    {\"input\": \"V: useEnvironmentallyFriendlyOption (3,0,0) > useStandardOption (1,1,3)\", \"output\": \"Using the environmentally friendly option is preferred over using the standard option.\"},\n",
    "    {\"input\": \"V: implementPreventativeMeasures (4,0,1) > reactToIssues (2,1,3)\", \"output\": \"Implementing preventative measures is better than reacting to issues after they occur.\"},\n",
    "    {\"input\": \"V: followStandardProcedure (3,0,1) > createCustomSolution (2,2,3)\", \"output\": \"Following standard procedure is preferred over creating a custom solution.\"},\n",
    "    {\"input\": \"V: purchaseWarrantyExtension (2,0,1) > skipWarranty (1,1,3)\", \"output\": \"Purchasing a warranty extension is preferable to skipping warranty coverage.\"},\n",
    "    {\"input\": \"V: useExistingTemplate (2,0,0) > createNewTemplate (1,2,2)\", \"output\": \"Using an existing template is preferred over creating a new template.\"},\n",
    "    {\"input\": \"V: scheduleRegularMaintenance (3,0,0) > repairWhenBroken (1,2,4)\", \"output\": \"Scheduling regular maintenance is preferable to repairing when broken.\"},\n",
    "    {\"input\": \"V: followUpInWriting (2,0,0) > verbalFollowUpOnly (1,1,3)\", \"output\": \"Following up in writing is better than only following up verbally.\"},\n",
    "\n",
    "    # --- Additional Complex Preference Rules ---\n",
    "    {\"input\": \"V: implementCloudBackup (4,0,1) > relyOnLocalBackup (2,1,3)\", \"output\": \"Implementing cloud backup is preferable to relying solely on local backup.\"},\n",
    "    {\"input\": \"V: hireInternalCandidate (3,0,1) > recruitExternally (2,2,3)\", \"output\": \"Hiring an internal candidate is preferable to recruiting externally.\"},\n",
    "    {\"input\": \"V: useSingleSignOn (3,0,0) > maintainMultipleLogins (1,1,4)\", \"output\": \"Using single sign-on is better than maintaining multiple logins.\"},\n",
    "    {\"input\": \"V: conductVirtualTraining (3,0,1) > requireInPersonTraining (2,2,3)\", \"output\": \"Conducting virtual training is preferable to requiring in-person training.\"},\n",
    "    {\"input\": \"V: developCustomizedSolution (4,2,1) > purchaseOffTheShelf (3,1,2)\", \"output\": \"Developing a customized solution is preferred over purchasing an off-the-shelf product.\"},\n",
    "    {\"input\": \"V: implementAgileMethodology (4,1,1) > useWaterfallApproach (2,2,3)\", \"output\": \"Implementing agile methodology is preferred over using a waterfall approach.\"},\n",
    "    {\"input\": \"V: negotiateMultiYearContract (3,1,0) > renewAnnually (2,2,3)\", \"output\": \"Negotiating a multi-year contract is preferable to renewing annually.\"},\n",
    "    {\"input\": \"V: outsourceNonCoreFunction (3,0,1) > maintainInHouse (2,2,3)\", \"output\": \"Outsourcing non-core functions is preferred over maintaining them in-house.\"},\n",
    "    {\"input\": \"V: investInEmployeeTraining (4,1,0) > hireNewExpertise (3,2,3)\", \"output\": \"Investing in employee training is preferable to hiring new expertise.\"},\n",
    "    {\"input\": \"V: standardizeEquipment (3,0,1) > allowVariedDevices (2,2,3)\", \"output\": \"Standardizing equipment is better than allowing varied devices.\"},\n",
    "\n",
    "    # --- Additional Real-world Inspired Condition Rules ---\n",
    "    {\"input\": \"C: checkOutLibraryBook requires [validLibraryCard, noOverdueItems]\", \"output\": \"To check out a library book, you need a valid library card and no overdue items.\"},\n",
    "    {\"input\": \"C: receivePrescription requires [doctorConsultation, validIdentification]\", \"output\": \"Receiving a prescription requires a doctor consultation and valid identification.\"},\n",
    "    {\"input\": \"C: enrollInHealthInsurance requires [eligibilityDocuments, enrollmentPeriod]\", \"output\": \"To enroll in health insurance, you need eligibility documents during the enrollment period.\"},\n",
    "    {\"input\": \"C: registerVehicle requires [proofOfOwnership, insuranceCertificate]\", \"output\": \"Registering a vehicle requires proof of ownership and an insurance certificate.\"},\n",
    "    {\"input\": \"C: openBankAccount requires [identityProof, addressVerification]\", \"output\": \"Opening a bank account requires identity proof and address verification.\"},\n",
    "    {\"input\": \"C: applyForPassport requires [birthCertificate, photographID]\", \"output\": \"Applying for a passport requires a birth certificate and photograph ID.\"},\n",
    "    {\"input\": \"C: rentApartment requires [creditCheck, depositPayment]\", \"output\": \"Renting an apartment requires passing a credit check and paying a deposit.\"},\n",
    "    {\"input\": \"C: enrollInUniversity requires [previousEducationRecords, entranceExamScore]\", \"output\": \"Enrolling in a university requires previous education records and an entrance exam score.\"},\n",
    "    {\"input\": \"C: purchaseAlcohol requires [legalAge, validID]\", \"output\": \"Purchasing alcohol requires being of legal age and having valid ID.\"},\n",
    "    {\"input\": \"C: applyForJobPosition requires [resume, coverLetter]\", \"output\": \"Applying for a job position requires a resume and cover letter.\"},\n",
    "\n",
    "    # --- Additional Real-world Inspired Preference Rules ---\n",
    "    {\"input\": \"V: useRenewableEnergy (5,0,0) > useFossilFuels (2,2,4)\", \"output\": \"Using renewable energy is preferable to using fossil fuels.\"},\n",
    "    {\"input\": \"V: supportLocalBusiness (4,0,1) > purchaseFromChains (2,1,3)\", \"output\": \"Supporting local businesses is better than purchasing from large chains.\"},\n",
    "    {\"input\": \"V: choosePublicTransportation (4,0,0) > drivePrivateVehicle (2,2,3)\", \"output\": \"Choosing public transportation is preferable to driving a private vehicle.\"},\n",
    "    {\"input\": \"V: adoptPaperlessProcess (3,0,0) > usePhysicalDocuments (1,2,3)\", \"output\": \"Adopting a paperless process is better than using physical documents.\"},\n",
    "    {\"input\": \"V: purchaseEnergyEfficientAppliance (4,1,0) > buyStandardAppliance (2,2,3)\", \"output\": \"Purchasing an energy-efficient appliance is preferable to buying a standard appliance.\"},\n",
    "    {\"input\": \"V: eatBalancedMeal (4,0,0) > consumeProcessedFood (1,2,4)\", \"output\": \"Eating a balanced meal is preferable to consuming processed food.\"},\n",
    "    {\"input\": \"V: exerciseRegularly (4,0,0) > remainSedentary (1,2,5)\", \"output\": \"Exercising regularly is better than remaining sedentary.\"},\n",
    "    {\"input\": \"V: maintainWorkLifeBalance (4,0,0) > workExcessiveHours (1,3,4)\", \"output\": \"Maintaining work-life balance is preferable to working excessive hours.\"},\n",
    "    {\"input\": \"V: saveForRetirement (4,0,0) > spendEntireIncome (1,2,5)\", \"output\": \"Saving for retirement is better than spending your entire income.\"},\n",
    "    {\"input\": \"V: learnNewSkills (4,0,0) > stagnateCareerGrowth (1,2,4)\", \"output\": \"Learning new skills is preferable to stagnating in career growth.\"},\n",
    "\n",
    "    # --- Edge Case Condition Rules ---\n",
    "    {\"input\": \"C: accessEmergencyExit requires []\", \"output\": \"Anyone can access the emergency exit without restrictions.\"},\n",
    "    {\"input\": \"C: accessPremiumFeatures requires [paidSubscription, verifiedAccount, completedTutorial]\", \"output\": \"Accessing premium features requires a paid subscription, verified account, and completed tutorial.\"},\n",
    "    {\"input\": \"C: launchNuclearProtocol requires [presidentialAuthorization, secondaryVerification, emergencySituation, securityClearanceLevel5]\", \"output\": \"Launching the nuclear protocol requires presidential authorization, secondary verification, an emergency situation, and level 5 security clearance.\"},\n",
    "    {\"input\": \"C: viewPublicWebsite requires []\", \"output\": \"Anyone can view the public website without restrictions.\"},\n",
    "    {\"input\": \"C: useRestroom requires []\", \"output\": \"Anyone can use the restroom without specific requirements.\"},\n",
    "\n",
    "    # --- Edge Case Preference Rules ---\n",
    "    {\"input\": \"V: doNothing (0,0,0) > takeAction (0,0,0)\", \"output\": \"In this case, doing nothing is exactly equivalent to taking action.\"},\n",
    "    {\"input\": \"V: optionA (10,0,0) > optionB (0,10,10)\", \"output\": \"Option A is significantly preferred over Option B.\"},\n",
    "    {\"input\": \"V: quickFix (1,0,9) > properSolution (9,9,1)\", \"output\": \"A quick fix, despite its drawbacks, is preferred over a proper solution in this context.\"},\n",
    "    {\"input\": \"V: saveTime (5,5,5) > saveMoney (5,5,5)\", \"output\": \"Saving time and saving money are equally valuable in this situation.\"},\n",
    "    {\"input\": \"V: maintainStatus (0,0,0) > attemptImprovement (10,10,10)\", \"output\": \"Maintaining the status quo is preferable to attempting improvement despite the potential benefits.\"},\n",
    "\n",
    "    # --- Industry-Specific Condition Rules ---\n",
    "    {\"input\": \"C: prescribeMedication requires [medicalLicense, patientConsultation, medicalNecessity]\", \"output\": \"Prescribing medication requires a medical license, patient consultation, and medical necessity.\"},\n",
    "    {\"input\": \"C: fileCourtMotion requires [barAdmission, clientConsent, validCaseNumber]\", \"output\": \"Filing a court motion requires bar admission, client consent, and a valid case number.\"},\n",
    "    {\"input\": \"C: conductFinancialAudit requires [accountingCertification, companyAccess, auditScope]\", \"output\": \"Conducting a financial audit requires accounting certification, company access, and a defined audit scope.\"},\n",
    "    {\"input\": \"C: deployMilitaryPersonnel requires [commandOrder, threatAssessment, resourceAvailability]\", \"output\": \"Deploying military personnel requires a command order, threat assessment, and resource availability.\"},\n",
    "    {\"input\": \"C: approveConstructionPermit requires [engineeringPlans, safetyInspection, zoneCompliance]\", \"output\": \"Approving a construction permit requires engineering plans, a safety inspection, and zone compliance.\"},\n",
    "    {\"input\": \"C: conductScientificExperiment requires [ethicsApproval, methodologyValidation, safetyProtocols]\", \"output\": \"Conducting a scientific experiment requires ethics approval, methodology validation, and safety protocols.\"},\n",
    "    {\"input\": \"C: authorizeInsuranceClaim requires [policyVerification, incidentDocumentation, coverageEligibility]\", \"output\": \"Authorizing an insurance claim requires policy verification, incident documentation, and coverage eligibility.\"},\n",
    "    {\"input\": \"C: performSurgery requires [surgicalLicense, patientConsent, medicalNecessity, operatingRoomAvailability]\", \"output\": \"Performing surgery requires a surgical license, patient consent, medical necessity, and operating room availability.\"},\n",
    "    {\"input\": \"C: approveEducationalCurriculum requires [accreditationStandards, facultyEndorsement, administrativeReview]\", \"output\": \"Approving an educational curriculum requires meeting accreditation standards, faculty endorsement, and administrative review.\"},\n",
    "    {\"input\": \"C: launchMarketingCampaign requires [brandGuidelines, budgetApproval, targetAudienceResearch]\", \"output\": \"Launching a marketing campaign requires following brand guidelines, budget approval, and target audience research.\"},\n",
    "\n",
    "    # --- Industry-Specific Preference Rules ---\n",
    "    {\"input\": \"V: useGenericMedication (4,0,0) > prescribeBrandName (2,3,2)\", \"output\": \"Using generic medication is preferred over prescribing brand-name drugs.\"},\n",
    "    {\"input\": \"V: settleCaseOutOfCourt (4,1,1) > proceedToTrial (2,3,4)\", \"output\": \"Settling a case out of court is preferable to proceeding to trial.\"},\n",
    "    {\"input\": \"V: investInIndexFund (3,0,1) > pickIndividualStocks (2,3,4)\", \"output\": \"Investing in an index fund is preferred over picking individual stocks.\"},\n",
    "    {\"input\": \"V: implementAgileDevelopment (4,1,0) > useTraditionalWaterfall (2,2,3)\", \"output\": \"Implementing agile development is preferred over using traditional waterfall methodology.\"},\n",
    "    {\"input\": \"V: employPreventiveMaintenance (4,0,0) > reactiveRepairs (1,2,4)\", \"output\": \"Employing preventive maintenance is better than relying on reactive repairs.\"},\n",
    "    {\"input\": \"V: utilizeRenewableMaterials (4,0,0) > useTraditionalMaterials (2,2,3)\", \"output\": \"Utilizing renewable materials is preferable to using traditional materials.\"},\n",
    "    {\"input\": \"V: adoptEvidenceBasedPractices (4,0,0) > followTradition (2,2,3)\", \"output\": \"Adopting evidence-based practices is better than simply following tradition.\"},\n",
    "    {\"input\": \"V: implementDistributedSystem (4,1,1) > buildMonolithicSystem (2,2,3)\", \"output\": \"Implementing a distributed system is preferable to building a monolithic system.\"},\n",
    "    {\"input\": \"V: offerFlexibleWorkArrangements (4,0,0) > requireFixedSchedules (2,2,3)\", \"output\": \"Offering flexible work arrangements is preferred over requiring fixed schedules.\"},\n",
    "    {\"input\": \"V: useNaturalIngredients (4,0,0) > useArtificialAdditives (1,2,4)\", \"output\": \"Using natural ingredients is preferable to using artificial additives.\"},\n",
    "\n",
    "    # --- Scenario-Based Condition Rules ---\n",
    "    {\"input\": \"C: evacuateBuilding requires [fireAlarm, securityAnnouncement]\", \"output\": \"Evacuating the building requires a fire alarm and security announcement.\"},\n",
    "    {\"input\": \"C: activateBackupPower requires [powerOutage, systemFailure]\", \"output\": \"Activating backup power requires a power outage and system failure.\"},\n",
    "    {\"input\": \"C: initiateDisasterRecovery requires [dataLoss, businessContinuityPlan]\", \"output\": \"Initiating disaster recovery requires data loss and a business continuity plan.\"},\n",
    "    {\"input\": \"C: quarantineFacility requires [contaminationDetection, healthAuthoritiesNotification]\", \"output\": \"Quarantining a facility requires contamination detection and health authorities notification.\"},\n",
    "    {\"input\": \"C: implementLockdown requires [securityThreat, emergencyProtocol]\", \"output\": \"Implementing a lockdown requires a security threat and emergency protocol.\"},\n",
    "    {\"input\": \"C: declareFinancialEmergency requires [budgetDeficit, boardResolution]\", \"output\": \"Declaring a financial emergency requires a budget deficit and board resolution.\"},\n",
    "    {\"input\": \"C: cancelFlightOperations requires [severeWeather, safetyRiskAssessment]\", \"output\": \"Canceling flight operations requires severe weather and a safety risk assessment.\"},\n",
    "    {\"input\": \"C: recallProduct requires [qualityDefect, consumerSafetyRisk]\", \"output\": \"Recalling a product requires a quality defect and consumer safety risk.\"},\n",
    "    {\"input\": \"C: closeTemporarily requires [facilitySafetyConcern, remediationPlan]\", \"output\": \"Closing temporarily requires a facility safety concern and a remediation plan.\"},\n",
    "    {\"input\": \"C: suspendEmployee requires [policyViolation, humanResourcesInvestigation]\", \"output\": \"Suspending an employee requires a policy violation and a human resources investigation.\"},\n",
    "\n",
    "    # --- Scenario-Based Preference Rules ---\n",
    "    {\"input\": \"V: evacuateSafely (5,0,0) > protectProperty (1,2,5)\", \"output\": \"Evacuating safely is significantly preferred over protecting property.\"},\n",
    "    {\"input\": \"V: prioritizeSafety (5,0,0) > maintainProductivity (1,3,5)\", \"output\": \"Prioritizing safety is significantly preferred over maintaining productivity.\"},\n",
    "    {\"input\": \"V: communicateTransparently (4,0,0) > witholdInformation (1,3,5)\", \"output\": \"Communicating transparently is preferred over withholding information.\"},\n",
    "    {\"input\": \"V: addressRootCause (4,0,0) > treatSymptoms (1,2,4)\", \"output\": \"Addressing the root cause is preferred over treating only the symptoms.\"},\n",
    "    {\"input\": \"V: preserveEvidence (4,0,0) > cleanUpQuickly (1,3,4)\", \"output\": \"Preserving evidence is preferred over cleaning up quickly.\"},\n",
    "    {\"input\": \"V: followEstablishedProcedures (4,0,0) > improviseSolutions (2,2,3)\", \"output\": \"Following established procedures is preferred over improvising solutions.\"},\n",
    "    {\"input\": \"V: seekExpertAssistance (4,0,0) > handleInternally (2,2,3)\", \"output\": \"Seeking expert assistance is preferred over handling the situation internally.\"},\n",
    "    {\"input\": \"V: notifyAffectedParties (4,0,0) > limitInformationSharing (1,3,4)\", \"output\": \"Notifying affected parties is preferred over limiting information sharing.\"},\n",
    "    {\"input\": \"V: implementTemporarySolution (3,0,1) > waitForPerfectSolution (1,3,5)\", \"output\": \"Implementing a temporary solution is preferred over waiting for a perfect solution.\"},\n",
    "    {\"input\": \"V: documentIncident (4,0,0) > relyOnMemory (1,2,4)\", \"output\": \"Documenting the incident is preferred over relying on memory.\"},\n",
    "    # --- Technical/IT Environment Rules ---\n",
    "    {\"input\": \"C: mergeCodeBranch requires [peerReview, unitTestsPassing, integrationTestsPassing]\", \"output\": \"Merging a code branch requires peer review and both unit and integration tests passing.\"},\n",
    "    {\"input\": \"C: resetUserPassword requires [identityVerification, securityQuestion, managerApproval]\", \"output\": \"Resetting a user password requires identity verification, answering a security question, and manager approval.\"},\n",
    "    {\"input\": \"C: configureFirewall requires [networkAdminRights, changeManagementTicket, securityReview]\", \"output\": \"Configuring the firewall requires network admin rights, a change management ticket, and security review.\"},\n",
    "    {\"input\": \"C: installCriticalUpdate requires [backupCompleted, maintenanceWindow, userNotification]\", \"output\": \"Installing a critical update requires completed backup, being within the maintenance window, and user notification.\"},\n",
    "    {\"input\": \"V: useContainerization (4,0,1) > manualDeployment (2,2,4)\", \"output\": \"Using containerization is preferable to manual deployment.\"},\n",
    "    {\"input\": \"V: implementMicroservices (4,1,1) > buildMonolithicApplication (2,2,3)\", \"output\": \"Implementing microservices is preferable to building a monolithic application.\"},\n",
    "    {\"input\": \"V: adoptDevOpsMethodology (4,0,0) > separateDevelopmentOperations (2,2,4)\", \"output\": \"Adopting DevOps methodology is preferable to keeping development and operations separate.\"},\n",
    "    {\"input\": \"V: useVersionControl (5,0,0) > manageFilesManually (1,3,5)\", \"output\": \"Using version control is significantly preferred over managing files manually.\"},\n",
    "    \n",
    "    # --- Educational Context Rules ---\n",
    "    {\"input\": \"C: graduateProgram requires [completedRequiredCourses, minimumGPA, thesisDefense]\", \"output\": \"Graduating from the program requires completing required courses, maintaining a minimum GPA, and defending a thesis.\"},\n",
    "    {\"input\": \"C: teachCourse requires [subjectCertification, pedagogicalTraining, departmentalApproval]\", \"output\": \"Teaching a course requires subject certification, pedagogical training, and departmental approval.\"},\n",
    "    {\"input\": \"C: submitResearchForPublication requires [originalContent, peerReview, ethicalClearance]\", \"output\": \"Submitting research for publication requires original content, peer review, and ethical clearance.\"},\n",
    "    {\"input\": \"C: accessStudentRecords requires [administrativePermission, educationalPurpose, dataPrivacyTraining]\", \"output\": \"Accessing student records requires administrative permission, an educational purpose, and data privacy training.\"},\n",
    "    {\"input\": \"V: provideConstructiveFeedback (4,0,0) > giveGradeOnly (2,1,3)\", \"output\": \"Providing constructive feedback is preferable to giving only a grade.\"},\n",
    "    {\"input\": \"V: accommodateLearningDifferences (4,0,0) > enforceStandardApproach (2,2,3)\", \"output\": \"Accommodating learning differences is preferable to enforcing a standard approach for all students.\"},\n",
    "    {\"input\": \"V: encourageActiveParticipation (4,0,0) > lectureExclusively (2,2,3)\", \"output\": \"Encouraging active participation is preferable to exclusively lecturing.\"},\n",
    "    {\"input\": \"V: assessComprehensively (4,0,0) > relyOnFinalExamOnly (2,2,4)\", \"output\": \"Assessing comprehensively throughout the course is preferable to relying only on a final exam.\"},\n",
    "\n",
    "]\n",
    "\n",
    "# Prepare dataset\n",
    "tokenized_datasets = prepare_dataset(raw_data, tokenizer)\n",
    "\n",
    "# Split the dataset into training and evaluation sets\n",
    "train_size = int(0.8 * len(tokenized_datasets))\n",
    "train_dataset = tokenized_datasets.select(range(train_size))\n",
    "eval_dataset = tokenized_datasets.select(range(train_size, len(tokenized_datasets)))"
   ]
  },
  {
   "cell_type": "code",
   "execution_count": 4,
   "metadata": {},
   "outputs": [
    {
     "name": "stdout",
     "output_type": "stream",
     "text": [
      "Total dataset size: 167\n",
      "Training dataset size: 133\n",
      "Evaluation dataset size: 34\n",
      "\n",
      "Sample from training dataset:\n",
      "{'input': 'C: getKitchenCoffee requires [staffCardAvailable]', 'output': 'You can get coffee from the kitchen if a staff card is available.', 'input_ids': [30355, 15, 4727, 7295, 12, 793, 1612, 10, 254, 10, 129, 439, 7059, 35, 3881, 7398, 15, 2311, 784, 26416, 6936, 26, 188, 900, 173, 179, 908, 1, 0, 0, 0, 0, 0, 0, 0, 0, 0, 0, 0, 0, 0, 0, 0, 0, 0, 0, 0, 0, 0, 0, 0, 0, 0, 0, 0, 0, 0, 0, 0, 0, 0, 0, 0, 0, 0, 0, 0, 0, 0, 0, 0, 0, 0, 0, 0, 0, 0, 0, 0, 0, 0, 0, 0, 0, 0, 0, 0, 0, 0, 0, 0, 0, 0, 0, 0, 0, 0, 0, 0, 0, 0, 0, 0, 0, 0, 0, 0, 0, 0, 0, 0, 0, 0, 0, 0, 0, 0, 0, 0, 0, 0, 0, 0, 0, 0, 0, 0, 0, 0, 0, 0, 0, 0, 0, 0, 0, 0, 0, 0, 0, 0, 0, 0, 0, 0, 0, 0, 0, 0, 0, 0, 0, 0, 0, 0, 0, 0, 0, 0, 0, 0, 0, 0, 0, 0, 0, 0, 0, 0, 0, 0, 0, 0, 0, 0, 0, 0, 0, 0, 0, 0, 0, 0, 0, 0, 0, 0, 0, 0, 0, 0, 0, 0, 0, 0, 0, 0, 0, 0, 0, 0, 0, 0, 0, 0, 0, 0, 0, 0, 0, 0, 0, 0, 0, 0, 0, 0, 0, 0, 0, 0, 0, 0, 0, 0, 0, 0, 0, 0, 0, 0, 0, 0, 0, 0, 0, 0, 0, 0, 0, 0, 0, 0, 0, 0, 0, 0, 0, 0, 0, 0, 0, 0, 0, 0, 0], 'attention_mask': [1, 1, 1, 1, 1, 1, 1, 1, 1, 1, 1, 1, 1, 1, 1, 1, 1, 1, 1, 1, 1, 1, 1, 1, 1, 1, 1, 1, 0, 0, 0, 0, 0, 0, 0, 0, 0, 0, 0, 0, 0, 0, 0, 0, 0, 0, 0, 0, 0, 0, 0, 0, 0, 0, 0, 0, 0, 0, 0, 0, 0, 0, 0, 0, 0, 0, 0, 0, 0, 0, 0, 0, 0, 0, 0, 0, 0, 0, 0, 0, 0, 0, 0, 0, 0, 0, 0, 0, 0, 0, 0, 0, 0, 0, 0, 0, 0, 0, 0, 0, 0, 0, 0, 0, 0, 0, 0, 0, 0, 0, 0, 0, 0, 0, 0, 0, 0, 0, 0, 0, 0, 0, 0, 0, 0, 0, 0, 0, 0, 0, 0, 0, 0, 0, 0, 0, 0, 0, 0, 0, 0, 0, 0, 0, 0, 0, 0, 0, 0, 0, 0, 0, 0, 0, 0, 0, 0, 0, 0, 0, 0, 0, 0, 0, 0, 0, 0, 0, 0, 0, 0, 0, 0, 0, 0, 0, 0, 0, 0, 0, 0, 0, 0, 0, 0, 0, 0, 0, 0, 0, 0, 0, 0, 0, 0, 0, 0, 0, 0, 0, 0, 0, 0, 0, 0, 0, 0, 0, 0, 0, 0, 0, 0, 0, 0, 0, 0, 0, 0, 0, 0, 0, 0, 0, 0, 0, 0, 0, 0, 0, 0, 0, 0, 0, 0, 0, 0, 0, 0, 0, 0, 0, 0, 0, 0, 0, 0, 0, 0, 0, 0, 0, 0, 0, 0, 0], 'labels': [148, 54, 129, 1975, 45, 8, 1228, 3, 99, 3, 9, 871, 895, 19, 347, 5, 1, 0, 0, 0, 0, 0, 0, 0, 0, 0, 0, 0, 0, 0, 0, 0, 0, 0, 0, 0, 0, 0, 0, 0, 0, 0, 0, 0, 0, 0, 0, 0, 0, 0, 0, 0, 0, 0, 0, 0, 0, 0, 0, 0, 0, 0, 0, 0, 0, 0, 0, 0, 0, 0, 0, 0, 0, 0, 0, 0, 0, 0, 0, 0, 0, 0, 0, 0, 0, 0, 0, 0, 0, 0, 0, 0, 0, 0, 0, 0, 0, 0, 0, 0, 0, 0, 0, 0, 0, 0, 0, 0, 0, 0, 0, 0, 0, 0, 0, 0, 0, 0, 0, 0, 0, 0, 0, 0, 0, 0, 0, 0, 0, 0, 0, 0, 0, 0, 0, 0, 0, 0, 0, 0, 0, 0, 0, 0, 0, 0, 0, 0, 0, 0, 0, 0, 0, 0, 0, 0, 0, 0, 0, 0, 0, 0, 0, 0, 0, 0, 0, 0, 0, 0, 0, 0, 0, 0, 0, 0, 0, 0, 0, 0, 0, 0, 0, 0, 0, 0, 0, 0, 0, 0, 0, 0, 0, 0, 0, 0, 0, 0, 0, 0, 0, 0, 0, 0, 0, 0, 0, 0, 0, 0, 0, 0, 0, 0, 0, 0, 0, 0, 0, 0, 0, 0, 0, 0, 0, 0, 0, 0, 0, 0, 0, 0, 0, 0, 0, 0, 0, 0, 0, 0, 0, 0, 0, 0, 0, 0, 0, 0, 0, 0, 0, 0, 0, 0, 0, 0], 'decoder_input_ids': [148, 54, 129, 1975, 45, 8, 1228, 3, 99, 3, 9, 871, 895, 19, 347, 5, 1, 0, 0, 0, 0, 0, 0, 0, 0, 0, 0, 0, 0, 0, 0, 0, 0, 0, 0, 0, 0, 0, 0, 0, 0, 0, 0, 0, 0, 0, 0, 0, 0, 0, 0, 0, 0, 0, 0, 0, 0, 0, 0, 0, 0, 0, 0, 0, 0, 0, 0, 0, 0, 0, 0, 0, 0, 0, 0, 0, 0, 0, 0, 0, 0, 0, 0, 0, 0, 0, 0, 0, 0, 0, 0, 0, 0, 0, 0, 0, 0, 0, 0, 0, 0, 0, 0, 0, 0, 0, 0, 0, 0, 0, 0, 0, 0, 0, 0, 0, 0, 0, 0, 0, 0, 0, 0, 0, 0, 0, 0, 0, 0, 0, 0, 0, 0, 0, 0, 0, 0, 0, 0, 0, 0, 0, 0, 0, 0, 0, 0, 0, 0, 0, 0, 0, 0, 0, 0, 0, 0, 0, 0, 0, 0, 0, 0, 0, 0, 0, 0, 0, 0, 0, 0, 0, 0, 0, 0, 0, 0, 0, 0, 0, 0, 0, 0, 0, 0, 0, 0, 0, 0, 0, 0, 0, 0, 0, 0, 0, 0, 0, 0, 0, 0, 0, 0, 0, 0, 0, 0, 0, 0, 0, 0, 0, 0, 0, 0, 0, 0, 0, 0, 0, 0, 0, 0, 0, 0, 0, 0, 0, 0, 0, 0, 0, 0, 0, 0, 0, 0, 0, 0, 0, 0, 0, 0, 0, 0, 0, 0, 0, 0, 0, 0, 0, 0, 0, 0, 0]}\n",
      "\n",
      "Sample from evaluation dataset:\n",
      "{'input': 'C: initiateDisasterRecovery requires [dataLoss, businessContinuityPlan]', 'output': 'Initiating disaster recovery requires data loss and a business continuity plan.', 'input_ids': [30355, 15, 4727, 7295, 12, 793, 1612, 10, 254, 10, 20108, 308, 159, 9, 1370, 1649, 9817, 63, 2311, 784, 6757, 434, 32, 7, 7, 6, 268, 16798, 76, 485, 17373, 908, 1, 0, 0, 0, 0, 0, 0, 0, 0, 0, 0, 0, 0, 0, 0, 0, 0, 0, 0, 0, 0, 0, 0, 0, 0, 0, 0, 0, 0, 0, 0, 0, 0, 0, 0, 0, 0, 0, 0, 0, 0, 0, 0, 0, 0, 0, 0, 0, 0, 0, 0, 0, 0, 0, 0, 0, 0, 0, 0, 0, 0, 0, 0, 0, 0, 0, 0, 0, 0, 0, 0, 0, 0, 0, 0, 0, 0, 0, 0, 0, 0, 0, 0, 0, 0, 0, 0, 0, 0, 0, 0, 0, 0, 0, 0, 0, 0, 0, 0, 0, 0, 0, 0, 0, 0, 0, 0, 0, 0, 0, 0, 0, 0, 0, 0, 0, 0, 0, 0, 0, 0, 0, 0, 0, 0, 0, 0, 0, 0, 0, 0, 0, 0, 0, 0, 0, 0, 0, 0, 0, 0, 0, 0, 0, 0, 0, 0, 0, 0, 0, 0, 0, 0, 0, 0, 0, 0, 0, 0, 0, 0, 0, 0, 0, 0, 0, 0, 0, 0, 0, 0, 0, 0, 0, 0, 0, 0, 0, 0, 0, 0, 0, 0, 0, 0, 0, 0, 0, 0, 0, 0, 0, 0, 0, 0, 0, 0, 0, 0, 0, 0, 0, 0, 0, 0, 0, 0, 0, 0, 0, 0, 0, 0, 0, 0, 0, 0, 0, 0, 0, 0, 0, 0, 0], 'attention_mask': [1, 1, 1, 1, 1, 1, 1, 1, 1, 1, 1, 1, 1, 1, 1, 1, 1, 1, 1, 1, 1, 1, 1, 1, 1, 1, 1, 1, 1, 1, 1, 1, 1, 0, 0, 0, 0, 0, 0, 0, 0, 0, 0, 0, 0, 0, 0, 0, 0, 0, 0, 0, 0, 0, 0, 0, 0, 0, 0, 0, 0, 0, 0, 0, 0, 0, 0, 0, 0, 0, 0, 0, 0, 0, 0, 0, 0, 0, 0, 0, 0, 0, 0, 0, 0, 0, 0, 0, 0, 0, 0, 0, 0, 0, 0, 0, 0, 0, 0, 0, 0, 0, 0, 0, 0, 0, 0, 0, 0, 0, 0, 0, 0, 0, 0, 0, 0, 0, 0, 0, 0, 0, 0, 0, 0, 0, 0, 0, 0, 0, 0, 0, 0, 0, 0, 0, 0, 0, 0, 0, 0, 0, 0, 0, 0, 0, 0, 0, 0, 0, 0, 0, 0, 0, 0, 0, 0, 0, 0, 0, 0, 0, 0, 0, 0, 0, 0, 0, 0, 0, 0, 0, 0, 0, 0, 0, 0, 0, 0, 0, 0, 0, 0, 0, 0, 0, 0, 0, 0, 0, 0, 0, 0, 0, 0, 0, 0, 0, 0, 0, 0, 0, 0, 0, 0, 0, 0, 0, 0, 0, 0, 0, 0, 0, 0, 0, 0, 0, 0, 0, 0, 0, 0, 0, 0, 0, 0, 0, 0, 0, 0, 0, 0, 0, 0, 0, 0, 0, 0, 0, 0, 0, 0, 0, 0, 0, 0, 0, 0, 0, 0, 0, 0, 0, 0, 0], 'labels': [86, 155, 23, 1014, 6912, 3938, 2311, 331, 1453, 11, 3, 9, 268, 23534, 515, 5, 1, 0, 0, 0, 0, 0, 0, 0, 0, 0, 0, 0, 0, 0, 0, 0, 0, 0, 0, 0, 0, 0, 0, 0, 0, 0, 0, 0, 0, 0, 0, 0, 0, 0, 0, 0, 0, 0, 0, 0, 0, 0, 0, 0, 0, 0, 0, 0, 0, 0, 0, 0, 0, 0, 0, 0, 0, 0, 0, 0, 0, 0, 0, 0, 0, 0, 0, 0, 0, 0, 0, 0, 0, 0, 0, 0, 0, 0, 0, 0, 0, 0, 0, 0, 0, 0, 0, 0, 0, 0, 0, 0, 0, 0, 0, 0, 0, 0, 0, 0, 0, 0, 0, 0, 0, 0, 0, 0, 0, 0, 0, 0, 0, 0, 0, 0, 0, 0, 0, 0, 0, 0, 0, 0, 0, 0, 0, 0, 0, 0, 0, 0, 0, 0, 0, 0, 0, 0, 0, 0, 0, 0, 0, 0, 0, 0, 0, 0, 0, 0, 0, 0, 0, 0, 0, 0, 0, 0, 0, 0, 0, 0, 0, 0, 0, 0, 0, 0, 0, 0, 0, 0, 0, 0, 0, 0, 0, 0, 0, 0, 0, 0, 0, 0, 0, 0, 0, 0, 0, 0, 0, 0, 0, 0, 0, 0, 0, 0, 0, 0, 0, 0, 0, 0, 0, 0, 0, 0, 0, 0, 0, 0, 0, 0, 0, 0, 0, 0, 0, 0, 0, 0, 0, 0, 0, 0, 0, 0, 0, 0, 0, 0, 0, 0, 0, 0, 0, 0, 0, 0], 'decoder_input_ids': [86, 155, 23, 1014, 6912, 3938, 2311, 331, 1453, 11, 3, 9, 268, 23534, 515, 5, 1, 0, 0, 0, 0, 0, 0, 0, 0, 0, 0, 0, 0, 0, 0, 0, 0, 0, 0, 0, 0, 0, 0, 0, 0, 0, 0, 0, 0, 0, 0, 0, 0, 0, 0, 0, 0, 0, 0, 0, 0, 0, 0, 0, 0, 0, 0, 0, 0, 0, 0, 0, 0, 0, 0, 0, 0, 0, 0, 0, 0, 0, 0, 0, 0, 0, 0, 0, 0, 0, 0, 0, 0, 0, 0, 0, 0, 0, 0, 0, 0, 0, 0, 0, 0, 0, 0, 0, 0, 0, 0, 0, 0, 0, 0, 0, 0, 0, 0, 0, 0, 0, 0, 0, 0, 0, 0, 0, 0, 0, 0, 0, 0, 0, 0, 0, 0, 0, 0, 0, 0, 0, 0, 0, 0, 0, 0, 0, 0, 0, 0, 0, 0, 0, 0, 0, 0, 0, 0, 0, 0, 0, 0, 0, 0, 0, 0, 0, 0, 0, 0, 0, 0, 0, 0, 0, 0, 0, 0, 0, 0, 0, 0, 0, 0, 0, 0, 0, 0, 0, 0, 0, 0, 0, 0, 0, 0, 0, 0, 0, 0, 0, 0, 0, 0, 0, 0, 0, 0, 0, 0, 0, 0, 0, 0, 0, 0, 0, 0, 0, 0, 0, 0, 0, 0, 0, 0, 0, 0, 0, 0, 0, 0, 0, 0, 0, 0, 0, 0, 0, 0, 0, 0, 0, 0, 0, 0, 0, 0, 0, 0, 0, 0, 0, 0, 0, 0, 0, 0, 0]}\n"
     ]
    }
   ],
   "source": [
    "# Print dataset statistics\n",
    "print(f\"Total dataset size: {len(tokenized_datasets)}\")\n",
    "print(f\"Training dataset size: {len(train_dataset)}\")\n",
    "print(f\"Evaluation dataset size: {len(eval_dataset)}\")\n",
    "\n",
    "# Peek into the datasets\n",
    "print(\"\\nSample from training dataset:\")\n",
    "print(train_dataset[0])\n",
    "\n",
    "print(\"\\nSample from evaluation dataset:\")\n",
    "print(eval_dataset[0])"
   ]
  },
  {
   "cell_type": "code",
   "execution_count": 5,
   "metadata": {},
   "outputs": [
    {
     "name": "stdout",
     "output_type": "stream",
     "text": [
      "Tokenized Input: {'input_ids': tensor([[  205,    10,   129,   439,  7059,    35,  3881,  7398,    15,  2311,\n",
      "           784, 26416,  6936,    26,   188,   900,   173,   179,   908,     1]]), 'attention_mask': tensor([[1, 1, 1, 1, 1, 1, 1, 1, 1, 1, 1, 1, 1, 1, 1, 1, 1, 1, 1, 1]])}\n",
      "Decoded Back: C: getKitchenCoffee requires [staffCardAvailable]</s>\n"
     ]
    }
   ],
   "source": [
    "test_text = \"C: getKitchenCoffee requires [staffCardAvailable]\"\n",
    "tokenized = tokenizer(test_text, return_tensors=\"pt\")\n",
    "\n",
    "print(\"Tokenized Input:\", tokenized)\n",
    "decoded = tokenizer.decode(tokenized[\"input_ids\"][0])\n",
    "print(\"Decoded Back:\", decoded)"
   ]
  },
  {
   "cell_type": "markdown",
   "metadata": {},
   "source": [
    "# Train Model\n",
    "Fine-tune the pretrained T5 model using the tokenized dataset with the `train_model` function."
   ]
  },
  {
   "cell_type": "code",
   "execution_count": 6,
   "metadata": {},
   "outputs": [
    {
     "name": "stdout",
     "output_type": "stream",
     "text": [
      "WARNING:tensorflow:From C:\\Users\\bar24\\AppData\\Roaming\\Python\\Python312\\site-packages\\tf_keras\\src\\losses.py:2976: The name tf.losses.sparse_softmax_cross_entropy is deprecated. Please use tf.compat.v1.losses.sparse_softmax_cross_entropy instead.\n",
      "\n"
     ]
    },
    {
     "name": "stderr",
     "output_type": "stream",
     "text": [
      "c:\\Users\\bar24\\anaconda3\\envs\\ExplainableAI\\Lib\\site-packages\\transformers\\training_args.py:1611: FutureWarning: `evaluation_strategy` is deprecated and will be removed in version 4.46 of 🤗 Transformers. Use `eval_strategy` instead\n",
      "  warnings.warn(\n"
     ]
    },
    {
     "name": "stdout",
     "output_type": "stream",
     "text": [
      "Starting training...\n"
     ]
    },
    {
     "name": "stderr",
     "output_type": "stream",
     "text": [
      "Passing a tuple of `past_key_values` is deprecated and will be removed in Transformers v4.48.0. You should pass an instance of `EncoderDecoderCache` instead, e.g. `past_key_values=EncoderDecoderCache.from_legacy_cache(past_key_values)`.\n"
     ]
    },
    {
     "data": {
      "text/html": [
       "\n",
       "    <div>\n",
       "      \n",
       "      <progress value='51' max='51' style='width:300px; height:20px; vertical-align: middle;'></progress>\n",
       "      [51/51 27:13, Epoch 3/3]\n",
       "    </div>\n",
       "    <table border=\"1\" class=\"dataframe\">\n",
       "  <thead>\n",
       " <tr style=\"text-align: left;\">\n",
       "      <th>Step</th>\n",
       "      <th>Training Loss</th>\n",
       "      <th>Validation Loss</th>\n",
       "    </tr>\n",
       "  </thead>\n",
       "  <tbody>\n",
       "    <tr>\n",
       "      <td>50</td>\n",
       "      <td>7.330500</td>\n",
       "      <td>7.040112</td>\n",
       "    </tr>\n",
       "  </tbody>\n",
       "</table><p>"
      ],
      "text/plain": [
       "<IPython.core.display.HTML object>"
      ]
     },
     "metadata": {},
     "output_type": "display_data"
    },
    {
     "name": "stdout",
     "output_type": "stream",
     "text": [
      "Training complete.\n"
     ]
    }
   ],
   "source": [
    "from transformers import TrainingArguments, Trainer\n",
    "\n",
    "def train_model(train_dataset, eval_dataset, model):\n",
    "    \"\"\"Fine-tune the T5 model and ensure loss is decreasing.\"\"\"\n",
    "    training_args = TrainingArguments(\n",
    "        output_dir=\"./t5_nle\",\n",
    "        per_device_train_batch_size=8,\n",
    "        per_device_eval_batch_size=8,\n",
    "        num_train_epochs=3,  # Start lower to check progress\n",
    "        # learning_rate=1,  # Slightly higher than before\n",
    "        # weight_decay=0.01,\n",
    "        evaluation_strategy=\"steps\",\n",
    "        save_strategy=\"steps\",\n",
    "        eval_steps=50,  # Evaluate more often\n",
    "        save_steps=100,\n",
    "        logging_steps=10,  # Log loss every 10 steps\n",
    "        logging_dir=\"./logs\",\n",
    "        report_to=\"none\",\n",
    "        do_eval=True,\n",
    "        load_best_model_at_end=True,  # Ensures best validation model is used\n",
    "        metric_for_best_model=\"loss\",\n",
    "        label_smoothing_factor=0.1\n",
    "    )\n",
    "\n",
    "    trainer = Trainer(\n",
    "        model=model,\n",
    "        args=training_args,\n",
    "        train_dataset=train_dataset,\n",
    "        eval_dataset=eval_dataset\n",
    "    )\n",
    "\n",
    "    print(\"Starting training...\")\n",
    "    trainer.train()\n",
    "    print(\"Training complete.\")\n",
    "\n",
    "    return model\n",
    "\n",
    "\n",
    "# Train the model\n",
    "trained_model = train_model(train_dataset, eval_dataset, model)"
   ]
  },
  {
   "cell_type": "markdown",
   "metadata": {},
   "source": [
    "## Save the trained model"
   ]
  },
  {
   "cell_type": "code",
   "execution_count": 8,
   "metadata": {},
   "outputs": [
    {
     "name": "stdout",
     "output_type": "stream",
     "text": [
      "Model saved to trained_model.pth\n",
      "Tokenizer saved to tokenizer.pkl\n"
     ]
    }
   ],
   "source": [
    "import torch\n",
    "import pickle\n",
    "\n",
    "def save_model(model, tokenizer, model_path=\"trained_model.pth\", tokenizer_path=\"tokenizer.pkl\"):\n",
    "    \"\"\"\n",
    "    Save the trained model and tokenizer.\n",
    "\n",
    "    Parameters:\n",
    "    - model: Trained T5 model\n",
    "    - tokenizer: Tokenizer corresponding to the model\n",
    "    - model_path: Path to save the model (default: \"trained_model.pth\")\n",
    "    - tokenizer_path: Path to save the tokenizer (default: \"tokenizer.pkl\")\n",
    "    \"\"\"\n",
    "    # Save the model\n",
    "    torch.save(model.state_dict(), model_path)\n",
    "    print(f\"Model saved to {model_path}\")\n",
    "\n",
    "    # Save the tokenizer\n",
    "    with open(tokenizer_path, \"wb\") as f:\n",
    "        pickle.dump(tokenizer, f)\n",
    "    print(f\"Tokenizer saved to {tokenizer_path}\")\n",
    "\n",
    "# Save the trained model and tokenizer\n",
    "save_model(trained_model, tokenizer)"
   ]
  },
  {
   "cell_type": "markdown",
   "metadata": {},
   "source": [
    "# Generate Explanation\n",
    "Define a function `generate_explanation` to generate natural language explanations using the trained T5 model."
   ]
  },
  {
   "cell_type": "code",
   "execution_count": 7,
   "metadata": {},
   "outputs": [
    {
     "name": "stdout",
     "output_type": "stream",
     "text": [
      "Tokenized input: tensor([[13959,  4727,  7295,    12,   793,  1612,    10,   205,    10,   129,\n",
      "           439,  7059,    35,  3881,  7398,    15,  2311,   784, 26416,  6936,\n",
      "            26,   188,   900,   173,   179,   908,     1]], device='cuda:0')\n",
      "Raw output (token IDs): tensor([[    0,   205,    10,   129,   439,  7059,    35,  3881,  7398,    15,\n",
      "          2311,   784, 26416,   188,   900,   173,   179,   908,     1]],\n",
      "       device='cuda:0')\n",
      "Input: C: getKitchenCoffee requires [staffCardAvailable]\n",
      "Generated Explanation: C: getKitchenCoffee requires [staffAvailable]\n"
     ]
    }
   ],
   "source": [
    "# Generate Explanation\n",
    "\n",
    "def generate_explanation(model, tokenizer, input_text):\n",
    "    \"\"\"Generate a natural explanation using the trained T5 model.\"\"\"\n",
    "    input_text = \"translate formal explanation to natural language: \" + input_text\n",
    "    inputs = tokenizer(input_text, return_tensors=\"pt\", padding=True, truncation=True).to(model.device)\n",
    "\n",
    "    print(\"Tokenized input:\", inputs[\"input_ids\"])  # Debugging\n",
    "\n",
    "    output_ids = model.generate(\n",
    "        **inputs,\n",
    "        max_length=500,\n",
    "        num_beams=200,  # Improve quality with beam search\n",
    "        early_stopping=True\n",
    "    )\n",
    "\n",
    "    print(\"Raw output (token IDs):\", output_ids)  # Debugging\n",
    "\n",
    "    decoded_text = tokenizer.decode(output_ids[0], skip_special_tokens=True)\n",
    "    return decoded_text\n",
    "\n",
    "\n",
    "# Example usage\n",
    "input_text = \"C: getKitchenCoffee requires [staffCardAvailable]\"\n",
    "generated_explanation = generate_explanation(trained_model, tokenizer, input_text)\n",
    "print(f\"Input: {input_text}\\nGenerated Explanation: {generated_explanation}\")"
   ]
  },
  {
   "cell_type": "markdown",
   "metadata": {},
   "source": [
    "# Test Model\n",
    "Define a function `test_model` to test the model on a list of inputs and print the generated explanations."
   ]
  },
  {
   "cell_type": "code",
   "execution_count": null,
   "metadata": {},
   "outputs": [],
   "source": [
    "def test_model(model, tokenizer, test_inputs):\n",
    "    \"\"\"\n",
    "    Test the model on a list of inputs.\n",
    "\n",
    "    Parameters:\n",
    "    - model: Trained T5 model\n",
    "    - tokenizer: Tokenizer corresponding to the model\n",
    "    - test_inputs: List of formal explanations\n",
    "\n",
    "    Prints:\n",
    "    - Generated explanations\n",
    "    \"\"\"\n",
    "    for test_input in test_inputs:\n",
    "        explanation = generate_explanation(model, tokenizer, test_input)\n",
    "        print(f\"Input: {test_input}\\nGenerated Explanation: {explanation}\\n\")\n",
    "\n",
    "# Test the model\n",
    "test_inputs = [\n",
    "    \"C: getKitchenCoffee requires [staffCardAvailable]\",\n",
    "    \"V: getOwnCard (0,0,0) > getOthersCard (0,0,2)\"\n",
    "]\n",
    "test_model(trained_model, tokenizer, test_inputs)"
   ]
  },
  {
   "cell_type": "markdown",
   "metadata": {},
   "source": [
    "# Example Usage\n",
    "Demonstrate the usage of the functions with sample data, including loading the model, preparing the dataset, training the model, and testing it with example inputs."
   ]
  },
  {
   "cell_type": "code",
   "execution_count": null,
   "metadata": {},
   "outputs": [],
   "source": [
    "# Example Usage\n",
    "\n",
    "# Load the pretrained model and tokenizer\n",
    "tokenizer, model = get_pretrained_model()\n",
    "\n",
    "# Sample dataset\n",
    "raw_data = [\n",
    "    {\n",
    "        \"input\": \"C: getKitchenCoffee requires [staffCardAvailable]\",\n",
    "        \"output\": \"You can get coffee from the kitchen if a staff card is available.\"\n",
    "    },\n",
    "    {\n",
    "        \"input\": \"V: getOwnCard (0,0,0) > getOthersCard (0,0,2)\",\n",
    "        \"output\": \"It is preferable to get your own card rather than using someone else's.\"\n",
    "    }\n",
    "]\n",
    "\n",
    "# Prepare dataset\n",
    "tokenized_datasets = prepare_dataset(raw_data, tokenizer)\n",
    "\n",
    "# Split the dataset into training and evaluation sets\n",
    "train_size = int(0.8 * len(tokenized_datasets))\n",
    "train_dataset = tokenized_datasets.select(range(train_size))\n",
    "eval_dataset = tokenized_datasets.select(range(train_size, len(tokenized_datasets)))\n",
    "\n",
    "# Train the model\n",
    "trained_model = train_model(train_dataset, eval_dataset, model)\n",
    "\n",
    "# Test the model\n",
    "test_inputs = [\n",
    "    \"C: getKitchenCoffee requires [staffCardAvailable]\",\n",
    "    \"V: getOwnCard (0,0,0) > getOthersCard (0,0,2)\"\n",
    "]\n",
    "test_model(trained_model, tokenizer, test_inputs)"
   ]
  }
 ],
 "metadata": {
  "kernelspec": {
   "display_name": "xai",
   "language": "python",
   "name": "python3"
  },
  "language_info": {
   "codemirror_mode": {
    "name": "ipython",
    "version": 3
   },
   "file_extension": ".py",
   "mimetype": "text/x-python",
   "name": "python",
   "nbconvert_exporter": "python",
   "pygments_lexer": "ipython3",
   "version": "3.10.16"
  }
 },
 "nbformat": 4,
 "nbformat_minor": 2
}
